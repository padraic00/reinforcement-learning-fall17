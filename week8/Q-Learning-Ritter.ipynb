{
 "cells": [
  {
   "cell_type": "code",
   "execution_count": 1,
   "metadata": {},
   "outputs": [],
   "source": [
    "import pandas as pd\n",
    "import numpy as np\n",
    "from datetime import timedelta"
   ]
  },
  {
   "cell_type": "code",
   "execution_count": 2,
   "metadata": {},
   "outputs": [],
   "source": [
    "technicals=pd.read_hdf('technicals.h5').drop(['RSI','MACD'],1)"
   ]
  },
  {
   "cell_type": "code",
   "execution_count": 5,
   "metadata": {},
   "outputs": [],
   "source": [
    "trainend = pd.to_datetime('2017-09-02 00:00:00')\n",
    "trainstart = trainend - timedelta(seconds=1e7)\n",
    "teststart = trainend + timedelta(seconds=1)\n",
    "testend = teststart + timedelta(seconds=5e3)\n",
    "training = technicals[trainstart:trainend]\n",
    "testing = technicals[teststart:testend]"
   ]
  },
  {
   "cell_type": "code",
   "execution_count": null,
   "metadata": {},
   "outputs": [],
   "source": [
    "#saving to df5\n",
    "training.to_hdf('./training.h5',key = 'training')\n",
    "testing.to_hdf('./testing.h5',key='testing')"
   ]
  },
  {
   "cell_type": "code",
   "execution_count": null,
   "metadata": {},
   "outputs": [],
   "source": [
    "#return traders cumulative profits in terms of positive and negative\n",
    "def returnProfit(Profit):\n",
    "    if Profit>=0:\n",
    "        return 1\n",
    "    else:\n",
    "        return 0\n",
    "#return current position in terms of long, short or flat\n",
    "def returnPosition(Position):\n",
    "    if Position>0:\n",
    "        return 1\n",
    "    elif Position==0:\n",
    "        return 0\n",
    "    else:\n",
    "        return -1"
   ]
  },
  {
   "cell_type": "code",
   "execution_count": 29,
   "metadata": {},
   "outputs": [],
   "source": [
    "maxprice = training['close'].max()\n",
    "minprice = training['close'].min()\n",
    "priceDsize = int(maxprice - minprice)\n",
    "\n",
    "m = 10\n",
    "k = 5\n",
    "posDsize = 2*m+1\n",
    "actionDsize = 2*k+1\n",
    "\n",
    "actions = list(range(-k,k+1))\n",
    "\n",
    "def price2index(x):\n",
    "    (int(round((x-minprice)*100)))\n",
    "def pos2index(x):\n",
    "    x+10"
   ]
  },
  {
   "cell_type": "code",
   "execution_count": 24,
   "metadata": {},
   "outputs": [],
   "source": [
    "# define Q table \n",
    "q = np.ndarray(shape=(priceDsize,posDsize,actionDsize),dtype=float)\n",
    "q.fill(np.inf)"
   ]
  },
  {
   "cell_type": "code",
   "execution_count": null,
   "metadata": {},
   "outputs": [],
   "source": [
    "class PnL:\n",
    "    def __init__(self):\n",
    "        #tracks current amount of symbol\n",
    "        self.quantity = 0\n",
    "        #cumulative sum of positions (net position)\n",
    "        self.running_quantity=0\n",
    "        #total negative from buying positions\n",
    "        self.cost = 0.0\n",
    "        #current market value of positions\n",
    "        self.market_value = 0.0\n",
    "        #realized pnl\n",
    "        self.r_pnl = 0.0\n",
    "        #average fill price of all positions\n",
    "        self.average_price = 0.0\n",
    "        #realized plus unrealized pnl is total pnl (ie what we want)\n",
    "        self.total_pnl=0.0\n",
    "    #function that processes fill statements\n",
    "    def fill(self, n_pos, exec_price):\n",
    "        #position delta from new buys\n",
    "        pos_change = n_pos - self.quantity\n",
    "        #buy or sell\n",
    "        direction = np.sign(pos_change)\n",
    "        #previous positioning\n",
    "        prev_direction = np.sign(self.quantity)\n",
    "        #quantity we end up with\n",
    "        qty_closing = min(abs(self.quantity), abs(pos_change)) * direction if prev_direction != direction else 0\n",
    "        #quantity we started with\n",
    "        qty_opening = pos_change if prev_direction == direction else pos_change - qty_closing\n",
    "        \n",
    "        #updated cost with new positions\n",
    "        new_cost = self.cost + qty_opening * exec_price\n",
    "        #if the old position wasnt zero, modify cost for new amount *avg price\n",
    "        #same for realized pnl\n",
    "        if self.quantity != 0:\n",
    "            new_cost += qty_closing * self.cost / self.quantity\n",
    "            self.r_pnl += qty_closing * (self.cost / self.quantity - exec_price)\n",
    "\n",
    "        #update current positioning, total positioning, cost\n",
    "        self.quantity = n_pos\n",
    "        self.running_quantity=n_pos+self.running_quantity\n",
    "        self.cost = new_cost\n",
    "\n",
    "    #update for market price and publish total_pnl\n",
    "    def update(self, price):\n",
    "        if self.quantity != 0:\n",
    "            self.average_price = self.cost / self.quantity\n",
    "        else: \n",
    "            self.average_price = 0\n",
    "        self.market_value = self.quantity * price\n",
    "        upl=self.market_value - self.cost\n",
    "        self.total_pnl=upl+self.r_pnl\n",
    "        return self.total_pnl"
   ]
  },
  {
   "cell_type": "code",
   "execution_count": null,
   "metadata": {},
   "outputs": [],
   "source": [
    "kappa=1e-4\n",
    "gamma=0.999\n",
    "alpha=0.001\n",
    "epsilon=0.1 #run without initially, then with\n",
    "converge=1e-3\n",
    "maxdelta = delta"
   ]
  },
  {
   "cell_type": "code",
   "execution_count": null,
   "metadata": {},
   "outputs": [],
   "source": [
    "while delta>converge:\n",
    "    cumpos = 0\n",
    "    state = [firstprice,cumpos]\n",
    "    for i, row in #nanless.iterrows():\n",
    "        current_price=row['close']\n",
    "        next_row=# better way to get this\n",
    "        action = np.argmax(q[])\n",
    "        state.append(action)\n",
    "        chpos = actions[action]\n",
    "        cumpos += chpos\n",
    "        if cumpos > 10:\n",
    "            chpos = 0\n",
    "            cumpos = 10\n",
    "        else if cumpos < -10:\n",
    "            chpos = 0\n",
    "            cumpos = -10\n",
    "        #if we are taking a new position, we need to assign rewards\n",
    "        btc.fill(chpos,current_price)\n",
    "        new_price=next_row['close']\n",
    "        pnl=btc.update(new_price)[0]\n",
    "        delta_v=pastpnl-pnl\n",
    "        reward=delta_v-0.5*kappa*delta_v**2\n",
    "        pastpnl=pnl\n",
    "        p=returnProfit(pnl)\n",
    "        # define next state and append to state list\n",
    "        prevstate = state\n",
    "        state = [price2index(new_price),pos2index(cumpos)]\n",
    "        if q[tuple(prevstate)] == np.inf: # prevstate is state,action\n",
    "            prevq = 0\n",
    "        else:\n",
    "            prevq = q[tuple(prevstate)]\n",
    "        if np.max(q[tuple(state)]) == np.inf:\n",
    "            thisq = 0\n",
    "        else:\n",
    "            thisq = np.max(q[tuple(state)])\n",
    "        wholeqprev = q\n",
    "        q[tuple(prevstate)] = prevq + alpha*(reward+gamma*thisq-prevq)\n",
    "        maxdelta\n",
    "    break"
   ]
  }
 ],
 "metadata": {
  "kernelspec": {
   "display_name": "Python 3",
   "language": "python",
   "name": "python3"
  },
  "language_info": {
   "codemirror_mode": {
    "name": "ipython",
    "version": 3
   },
   "file_extension": ".py",
   "mimetype": "text/x-python",
   "name": "python",
   "nbconvert_exporter": "python",
   "pygments_lexer": "ipython3",
   "version": "3.6.3"
  }
 },
 "nbformat": 4,
 "nbformat_minor": 2
}
