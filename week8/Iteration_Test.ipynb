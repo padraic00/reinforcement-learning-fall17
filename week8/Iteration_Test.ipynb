{
 "cells": [
  {
   "cell_type": "code",
   "execution_count": 1,
   "metadata": {},
   "outputs": [],
   "source": [
    "import pandas as pd\n",
    "import numpy as np\n",
    "import time"
   ]
  },
  {
   "cell_type": "code",
   "execution_count": 2,
   "metadata": {},
   "outputs": [],
   "source": [
    "training=pd.read_hdf('training.h5')"
   ]
  },
  {
   "cell_type": "code",
   "execution_count": 3,
   "metadata": {},
   "outputs": [],
   "source": [
    "arr=training[\"close\"].as_matrix()"
   ]
  },
  {
   "cell_type": "code",
   "execution_count": 4,
   "metadata": {},
   "outputs": [],
   "source": [
    "itera=arr[0:1000000]"
   ]
  },
  {
   "cell_type": "code",
   "execution_count": 5,
   "metadata": {},
   "outputs": [],
   "source": [
    "maxprice = training['close'].max()\n",
    "minprice = training['close'].min()\n",
    "priceDsize = int(round(maxprice - minprice))\n",
    "\n",
    "m = 10\n",
    "k = 5\n",
    "posDsize = 2*m+1\n",
    "actionDsize = 2*k+1\n",
    "\n",
    "actions = list(range(-k,k+1))\n",
    "\n",
    "def price2index(x):\n",
    "    return (int(round((x-minprice)*100)))\n",
    "def pos2index(x):\n",
    "    return x+10"
   ]
  },
  {
   "cell_type": "code",
   "execution_count": 6,
   "metadata": {},
   "outputs": [],
   "source": [
    "# define Q table \n",
    "q = np.ndarray(shape=(1+priceDsize*100,posDsize,actionDsize),dtype=float)\n",
    "q.fill(np.inf)"
   ]
  },
  {
   "cell_type": "code",
   "execution_count": 7,
   "metadata": {},
   "outputs": [],
   "source": [
    "class PnL:\n",
    "    def __init__(self):\n",
    "        #tracks current amount of symbol\n",
    "        self.quantity = 0\n",
    "        #cumulative sum of positions (net position)\n",
    "        self.running_quantity=0\n",
    "        #total negative from buying positions\n",
    "        self.cost = 0.0\n",
    "        #current market value of positions\n",
    "        self.market_value = 0.0\n",
    "        #realized pnl\n",
    "        self.r_pnl = 0.0\n",
    "        #average fill price of all positions\n",
    "        self.average_price = 0.0\n",
    "        #realized plus unrealized pnl is total pnl (ie what we want)\n",
    "        self.total_pnl=0.0\n",
    "    #function that processes fill statements\n",
    "    def fill(self, n_pos, exec_price):\n",
    "        #position delta from new buys\n",
    "        pos_change = n_pos - self.quantity\n",
    "        #buy or sell\n",
    "        direction = np.sign(pos_change)\n",
    "        #previous positioning\n",
    "        prev_direction = np.sign(self.quantity)\n",
    "        #quantity we end up with\n",
    "        qty_closing = min(abs(self.quantity), abs(pos_change)) * direction if prev_direction != direction else 0\n",
    "        #quantity we started with\n",
    "        qty_opening = pos_change if prev_direction == direction else pos_change - qty_closing\n",
    "        \n",
    "        #updated cost with new positions\n",
    "        new_cost = self.cost + qty_opening * exec_price\n",
    "        #if the old position wasnt zero, modify cost for new amount *avg price\n",
    "        #same for realized pnl\n",
    "        if self.quantity != 0:\n",
    "            new_cost += qty_closing * self.cost / self.quantity\n",
    "            self.r_pnl += qty_closing * (self.cost / self.quantity - exec_price)\n",
    "\n",
    "        #update current positioning, total positioning, cost\n",
    "        self.quantity = n_pos\n",
    "        self.running_quantity=n_pos+self.running_quantity\n",
    "        self.cost = new_cost\n",
    "\n",
    "    #update for market price and publish total_pnl\n",
    "    def update(self, price):\n",
    "        if self.quantity != 0:\n",
    "            self.average_price = self.cost / self.quantity\n",
    "        else: \n",
    "            self.average_price = 0\n",
    "        self.market_value = self.quantity * price\n",
    "        upl=self.market_value - self.cost\n",
    "        self.total_pnl=upl+self.r_pnl\n",
    "        return self.total_pnl"
   ]
  },
  {
   "cell_type": "code",
   "execution_count": 8,
   "metadata": {},
   "outputs": [],
   "source": [
    "kappa=1e-4\n",
    "gamma=0.999\n",
    "alpha=0.001\n",
    "epsilon=0.1 #run without initially, then with\n",
    "converge=1e-3\n",
    "delta = np.inf\n",
    "firstprice=arr[0]"
   ]
  },
  {
   "cell_type": "code",
   "execution_count": 14,
   "metadata": {},
   "outputs": [
    {
     "ename": "KeyboardInterrupt",
     "evalue": "",
     "output_type": "error",
     "traceback": [
      "\u001b[1;31m---------------------------------------------------------------------------\u001b[0m",
      "\u001b[1;31mKeyboardInterrupt\u001b[0m                         Traceback (most recent call last)",
      "\u001b[1;32m<ipython-input-14-ed66c2858155>\u001b[0m in \u001b[0;36m<module>\u001b[1;34m()\u001b[0m\n\u001b[0;32m      8\u001b[0m     \u001b[1;32mfor\u001b[0m \u001b[0mi\u001b[0m \u001b[1;32min\u001b[0m \u001b[0mrange\u001b[0m\u001b[1;33m(\u001b[0m\u001b[0mlen\u001b[0m\u001b[1;33m(\u001b[0m\u001b[0marr\u001b[0m\u001b[1;33m[\u001b[0m\u001b[1;36m1\u001b[0m\u001b[1;33m:\u001b[0m\u001b[1;33m-\u001b[0m\u001b[1;36m2\u001b[0m\u001b[1;33m]\u001b[0m\u001b[1;33m)\u001b[0m\u001b[1;33m)\u001b[0m\u001b[1;33m:\u001b[0m\u001b[1;33m\u001b[0m\u001b[0m\n\u001b[0;32m      9\u001b[0m         \u001b[0mcurrent_price\u001b[0m\u001b[1;33m=\u001b[0m\u001b[0mlast\u001b[0m\u001b[1;33m\u001b[0m\u001b[0m\n\u001b[1;32m---> 10\u001b[1;33m         \u001b[0maction\u001b[0m \u001b[1;33m=\u001b[0m \u001b[0mnp\u001b[0m\u001b[1;33m.\u001b[0m\u001b[0margmax\u001b[0m\u001b[1;33m(\u001b[0m\u001b[0mq\u001b[0m\u001b[1;33m[\u001b[0m\u001b[0mtuple\u001b[0m\u001b[1;33m(\u001b[0m\u001b[0mstate\u001b[0m\u001b[1;33m)\u001b[0m\u001b[1;33m]\u001b[0m\u001b[1;33m)\u001b[0m\u001b[1;33m\u001b[0m\u001b[0m\n\u001b[0m\u001b[0;32m     11\u001b[0m         \u001b[0mstate\u001b[0m\u001b[1;33m.\u001b[0m\u001b[0mappend\u001b[0m\u001b[1;33m(\u001b[0m\u001b[0maction\u001b[0m\u001b[1;33m)\u001b[0m\u001b[1;33m\u001b[0m\u001b[0m\n\u001b[0;32m     12\u001b[0m         \u001b[0mchpos\u001b[0m \u001b[1;33m=\u001b[0m \u001b[0mactions\u001b[0m\u001b[1;33m[\u001b[0m\u001b[0maction\u001b[0m\u001b[1;33m]\u001b[0m\u001b[1;33m\u001b[0m\u001b[0m\n",
      "\u001b[1;32mC:\\Users\\Padraic\\Anaconda3\\envs\\ml\\lib\\site-packages\\numpy\\core\\fromnumeric.py\u001b[0m in \u001b[0;36margmax\u001b[1;34m(a, axis, out)\u001b[0m\n\u001b[0;32m    961\u001b[0m \u001b[1;33m\u001b[0m\u001b[0m\n\u001b[0;32m    962\u001b[0m     \"\"\"\n\u001b[1;32m--> 963\u001b[1;33m     \u001b[1;32mreturn\u001b[0m \u001b[0m_wrapfunc\u001b[0m\u001b[1;33m(\u001b[0m\u001b[0ma\u001b[0m\u001b[1;33m,\u001b[0m \u001b[1;34m'argmax'\u001b[0m\u001b[1;33m,\u001b[0m \u001b[0maxis\u001b[0m\u001b[1;33m=\u001b[0m\u001b[0maxis\u001b[0m\u001b[1;33m,\u001b[0m \u001b[0mout\u001b[0m\u001b[1;33m=\u001b[0m\u001b[0mout\u001b[0m\u001b[1;33m)\u001b[0m\u001b[1;33m\u001b[0m\u001b[0m\n\u001b[0m\u001b[0;32m    964\u001b[0m \u001b[1;33m\u001b[0m\u001b[0m\n\u001b[0;32m    965\u001b[0m \u001b[1;33m\u001b[0m\u001b[0m\n",
      "\u001b[1;32mC:\\Users\\Padraic\\Anaconda3\\envs\\ml\\lib\\site-packages\\numpy\\core\\fromnumeric.py\u001b[0m in \u001b[0;36m_wrapfunc\u001b[1;34m(obj, method, *args, **kwds)\u001b[0m\n\u001b[0;32m     55\u001b[0m \u001b[1;32mdef\u001b[0m \u001b[0m_wrapfunc\u001b[0m\u001b[1;33m(\u001b[0m\u001b[0mobj\u001b[0m\u001b[1;33m,\u001b[0m \u001b[0mmethod\u001b[0m\u001b[1;33m,\u001b[0m \u001b[1;33m*\u001b[0m\u001b[0margs\u001b[0m\u001b[1;33m,\u001b[0m \u001b[1;33m**\u001b[0m\u001b[0mkwds\u001b[0m\u001b[1;33m)\u001b[0m\u001b[1;33m:\u001b[0m\u001b[1;33m\u001b[0m\u001b[0m\n\u001b[0;32m     56\u001b[0m     \u001b[1;32mtry\u001b[0m\u001b[1;33m:\u001b[0m\u001b[1;33m\u001b[0m\u001b[0m\n\u001b[1;32m---> 57\u001b[1;33m         \u001b[1;32mreturn\u001b[0m \u001b[0mgetattr\u001b[0m\u001b[1;33m(\u001b[0m\u001b[0mobj\u001b[0m\u001b[1;33m,\u001b[0m \u001b[0mmethod\u001b[0m\u001b[1;33m)\u001b[0m\u001b[1;33m(\u001b[0m\u001b[1;33m*\u001b[0m\u001b[0margs\u001b[0m\u001b[1;33m,\u001b[0m \u001b[1;33m**\u001b[0m\u001b[0mkwds\u001b[0m\u001b[1;33m)\u001b[0m\u001b[1;33m\u001b[0m\u001b[0m\n\u001b[0m\u001b[0;32m     58\u001b[0m \u001b[1;33m\u001b[0m\u001b[0m\n\u001b[0;32m     59\u001b[0m     \u001b[1;31m# An AttributeError occurs if the object does not have\u001b[0m\u001b[1;33m\u001b[0m\u001b[1;33m\u001b[0m\u001b[0m\n",
      "\u001b[1;31mKeyboardInterrupt\u001b[0m: "
     ]
    }
   ],
   "source": [
    "counter = 0\n",
    "lod = []\n",
    "while True:\n",
    "    cumpos = 0\n",
    "    state = [price2index(firstprice),pos2index(cumpos)]\n",
    "    last=arr[0]\n",
    "    pastpnl=0\n",
    "    btc=PnL()\n",
    "    for i in range(len(arr[1:-2])):\n",
    "        current_price=last\n",
    "        action = np.argmax(q[tuple(state)])\n",
    "        state.append(action)\n",
    "        chpos = actions[action]\n",
    "        cumpos += chpos\n",
    "        if cumpos > 10:\n",
    "            chpos = 0\n",
    "            cumpos = 10\n",
    "        elif cumpos < -10:\n",
    "            chpos = 0\n",
    "            cumpos = -10\n",
    "        #if we are taking a new position, we need to assign rewards\n",
    "        btc.fill(chpos,current_price)\n",
    "        new_price=arr[i]\n",
    "        pnl=btc.update(new_price)\n",
    "        delta_v=pnl-pastpnl\n",
    "        reward=delta_v-0.5*kappa*delta_v**2\n",
    "        pastpnl=pnl\n",
    "        # define next state and append to state list\n",
    "        prevstate = state\n",
    "        state = [price2index(new_price),pos2index(cumpos)]\n",
    "        last=new_price\n",
    "        if q[tuple(prevstate)] == np.inf: # prevstate is state,action\n",
    "            prevq = 0\n",
    "        else:\n",
    "            prevq = q[tuple(prevstate)]\n",
    "        if np.max(q[tuple(state)]) == np.inf:\n",
    "            thisq = 0\n",
    "        else:\n",
    "            thisq = np.max(q[tuple(state)])\n",
    "        wholeqprev = q\n",
    "        q[tuple(prevstate)] = prevq + alpha*(reward+gamma*thisq-prevq)\n",
    "    deltas = np.absolute(np.ravel(np.subtract(q,wholeqprev)))\n",
    "    delta = np.max(deltas[~np.isnan(deltas)])\n",
    "    lod.append(delta)\n",
    "    counter += 1\n",
    "    print('run count: '+str(counter))"
   ]
  },
  {
   "cell_type": "code",
   "execution_count": 13,
   "metadata": {},
   "outputs": [
    {
     "data": {
      "text/plain": [
       "inf"
      ]
     },
     "execution_count": 13,
     "metadata": {},
     "output_type": "execute_result"
    }
   ],
   "source": [
    "delta"
   ]
  }
 ],
 "metadata": {
  "kernelspec": {
   "display_name": "Python 3",
   "language": "python",
   "name": "python3"
  },
  "language_info": {
   "codemirror_mode": {
    "name": "ipython",
    "version": 3
   },
   "file_extension": ".py",
   "mimetype": "text/x-python",
   "name": "python",
   "nbconvert_exporter": "python",
   "pygments_lexer": "ipython3",
   "version": "3.6.3"
  }
 },
 "nbformat": 4,
 "nbformat_minor": 2
}
