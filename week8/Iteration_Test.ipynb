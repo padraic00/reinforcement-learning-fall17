{
 "cells": [
  {
   "cell_type": "code",
   "execution_count": 1,
   "metadata": {
    "collapsed": true
   },
   "outputs": [],
   "source": [
    "import pandas as pd\n",
    "import numpy as np\n",
    "import time"
   ]
  },
  {
   "cell_type": "code",
   "execution_count": 3,
   "metadata": {},
   "outputs": [],
   "source": [
    "training=pd.read_hdf('training.h5')"
   ]
  },
  {
   "cell_type": "code",
   "execution_count": 4,
   "metadata": {
    "collapsed": true
   },
   "outputs": [],
   "source": [
    "arr=training[\"close\"].as_matrix()"
   ]
  },
  {
   "cell_type": "code",
   "execution_count": 6,
   "metadata": {
    "collapsed": true
   },
   "outputs": [],
   "source": [
    "itera=arr[0:1000000]"
   ]
  },
  {
   "cell_type": "code",
   "execution_count": 41,
   "metadata": {
    "collapsed": true
   },
   "outputs": [],
   "source": [
    "maxprice = training['close'].max()\n",
    "minprice = training['close'].min()\n",
    "priceDsize = int(maxprice - minprice)\n",
    "\n",
    "m = 10\n",
    "k = 5\n",
    "posDsize = 2*m+1\n",
    "actionDsize = 2*k+1\n",
    "\n",
    "actions = list(range(-k,k+1))\n",
    "\n",
    "def price2index(x):\n",
    "    return (int(round((x-minprice)*100)))\n",
    "def pos2index(x):\n",
    "    return x+10"
   ]
  },
  {
   "cell_type": "code",
   "execution_count": 19,
   "metadata": {},
   "outputs": [],
   "source": [
    "# define Q table \n",
    "q = np.ndarray(shape=(priceDsize,posDsize,actionDsize),dtype=float)\n",
    "q.fill(np.inf)"
   ]
  },
  {
   "cell_type": "code",
   "execution_count": 16,
   "metadata": {
    "collapsed": true
   },
   "outputs": [],
   "source": [
    "class PnL:\n",
    "    def __init__(self):\n",
    "        #tracks current amount of symbol\n",
    "        self.quantity = 0\n",
    "        #cumulative sum of positions (net position)\n",
    "        self.running_quantity=0\n",
    "        #total negative from buying positions\n",
    "        self.cost = 0.0\n",
    "        #current market value of positions\n",
    "        self.market_value = 0.0\n",
    "        #realized pnl\n",
    "        self.r_pnl = 0.0\n",
    "        #average fill price of all positions\n",
    "        self.average_price = 0.0\n",
    "        #realized plus unrealized pnl is total pnl (ie what we want)\n",
    "        self.total_pnl=0.0\n",
    "    #function that processes fill statements\n",
    "    def fill(self, n_pos, exec_price):\n",
    "        #position delta from new buys\n",
    "        pos_change = n_pos - self.quantity\n",
    "        #buy or sell\n",
    "        direction = np.sign(pos_change)\n",
    "        #previous positioning\n",
    "        prev_direction = np.sign(self.quantity)\n",
    "        #quantity we end up with\n",
    "        qty_closing = min(abs(self.quantity), abs(pos_change)) * direction if prev_direction != direction else 0\n",
    "        #quantity we started with\n",
    "        qty_opening = pos_change if prev_direction == direction else pos_change - qty_closing\n",
    "        \n",
    "        #updated cost with new positions\n",
    "        new_cost = self.cost + qty_opening * exec_price\n",
    "        #if the old position wasnt zero, modify cost for new amount *avg price\n",
    "        #same for realized pnl\n",
    "        if self.quantity != 0:\n",
    "            new_cost += qty_closing * self.cost / self.quantity\n",
    "            self.r_pnl += qty_closing * (self.cost / self.quantity - exec_price)\n",
    "\n",
    "        #update current positioning, total positioning, cost\n",
    "        self.quantity = n_pos\n",
    "        self.running_quantity=n_pos+self.running_quantity\n",
    "        self.cost = new_cost\n",
    "\n",
    "    #update for market price and publish total_pnl\n",
    "    def update(self, price):\n",
    "        if self.quantity != 0:\n",
    "            self.average_price = self.cost / self.quantity\n",
    "        else: \n",
    "            self.average_price = 0\n",
    "        self.market_value = self.quantity * price\n",
    "        upl=self.market_value - self.cost\n",
    "        self.total_pnl=upl+self.r_pnl\n",
    "        return self.total_pnl"
   ]
  },
  {
   "cell_type": "code",
   "execution_count": 20,
   "metadata": {},
   "outputs": [],
   "source": [
    "kappa=1e-4\n",
    "gamma=0.999\n",
    "alpha=0.001\n",
    "epsilon=0.1 #run without initially, then with\n",
    "converge=1e-3"
   ]
  },
  {
   "cell_type": "code",
   "execution_count": 13,
   "metadata": {},
   "outputs": [
    {
     "name": "stdout",
     "output_type": "stream",
     "text": [
      "10 loops, best of 3: 132 ms per loop\n"
     ]
    }
   ],
   "source": [
    "%%timeit\n",
    "last=arr[0]\n",
    "for i in range(len(itera[1:-1])):\n",
    "    last=arr[i]"
   ]
  },
  {
   "cell_type": "code",
   "execution_count": 23,
   "metadata": {},
   "outputs": [],
   "source": [
    "firstprice=arr[0]"
   ]
  },
  {
   "cell_type": "code",
   "execution_count": 44,
   "metadata": {},
   "outputs": [
    {
     "ename": "IndexError",
     "evalue": "index 9477 is out of bounds for axis 0 with size 3337",
     "output_type": "error",
     "traceback": [
      "\u001b[0;31m---------------------------------------------------------------------------\u001b[0m",
      "\u001b[0;31mIndexError\u001b[0m                                Traceback (most recent call last)",
      "\u001b[0;32m<ipython-input-44-4cbd0cf2bdd6>\u001b[0m in \u001b[0;36m<module>\u001b[0;34m()\u001b[0m\n\u001b[1;32m      7\u001b[0m     \u001b[0;32mfor\u001b[0m \u001b[0mi\u001b[0m \u001b[0;32min\u001b[0m \u001b[0mrange\u001b[0m\u001b[0;34m(\u001b[0m\u001b[0mlen\u001b[0m\u001b[0;34m(\u001b[0m\u001b[0marr\u001b[0m\u001b[0;34m[\u001b[0m\u001b[0;36m1\u001b[0m\u001b[0;34m:\u001b[0m\u001b[0;34m-\u001b[0m\u001b[0;36m2\u001b[0m\u001b[0;34m]\u001b[0m\u001b[0;34m)\u001b[0m\u001b[0;34m)\u001b[0m\u001b[0;34m:\u001b[0m\u001b[0;34m\u001b[0m\u001b[0m\n\u001b[1;32m      8\u001b[0m         \u001b[0mcurrent_price\u001b[0m\u001b[0;34m=\u001b[0m\u001b[0mlast\u001b[0m\u001b[0;34m\u001b[0m\u001b[0m\n\u001b[0;32m----> 9\u001b[0;31m         \u001b[0maction\u001b[0m \u001b[0;34m=\u001b[0m \u001b[0mnp\u001b[0m\u001b[0;34m.\u001b[0m\u001b[0margmax\u001b[0m\u001b[0;34m(\u001b[0m\u001b[0mq\u001b[0m\u001b[0;34m[\u001b[0m\u001b[0mstate\u001b[0m\u001b[0;34m]\u001b[0m\u001b[0;34m)\u001b[0m\u001b[0;34m\u001b[0m\u001b[0m\n\u001b[0m\u001b[1;32m     10\u001b[0m         \u001b[0mchpos\u001b[0m \u001b[0;34m=\u001b[0m \u001b[0mactions\u001b[0m\u001b[0;34m[\u001b[0m\u001b[0maction\u001b[0m\u001b[0;34m]\u001b[0m\u001b[0;34m\u001b[0m\u001b[0m\n\u001b[1;32m     11\u001b[0m         \u001b[0mcumpos\u001b[0m \u001b[0;34m+=\u001b[0m \u001b[0mchpos\u001b[0m\u001b[0;34m\u001b[0m\u001b[0m\n",
      "\u001b[0;31mIndexError\u001b[0m: index 9477 is out of bounds for axis 0 with size 3337"
     ]
    }
   ],
   "source": [
    "while True:\n",
    "    cumpos = 0\n",
    "    state = [price2index(firstprice),pos2index(cumpos)]\n",
    "    last=arr[0]\n",
    "    pastpnl=0\n",
    "    btc=PnL()\n",
    "    for i in range(len(arr[1:-2])):\n",
    "        current_price=last\n",
    "        action = np.argmax(q[state])\n",
    "        chpos = actions[action]\n",
    "        cumpos += chpos\n",
    "        if cumpos > 10:\n",
    "            chpos = 0\n",
    "            cumpos = 10\n",
    "        elif cumpos < -10:\n",
    "            chpos = 0\n",
    "            cumpos = -10\n",
    "        #if we are taking a new position, we need to assign rewards\n",
    "        btc.fill(chpos,current_price)\n",
    "        new_price=arr[i+1]\n",
    "        pnl=btc.update(new_price)\n",
    "        delta_v=pnl-pastpnl\n",
    "        reward=delta_v-0.5*kappa*delta_v**2\n",
    "        pastpnl=pnl\n",
    "        # define next state and append to state list\n",
    "        prevstate = state\n",
    "        state = [price2index(new_price),pos2index(cumpos)]\n",
    "        last=state\n",
    "        if q[tuple(prevstate)] == np.inf: # prevstate is state,action\n",
    "            prevq = 0\n",
    "        else:\n",
    "            prevq = q[tuple(prevstate)]\n",
    "        if np.max(q[tuple(state)]) == np.inf:\n",
    "            thisq = 0\n",
    "        else:\n",
    "            thisq = np.max(q[tuple(state)])\n",
    "        wholeqprev = q\n",
    "        q[tuple(prevstate)] = prevq + alpha*(reward+gamma*thisq-prevq)\n",
    "    break"
   ]
  },
  {
   "cell_type": "code",
   "execution_count": 28,
   "metadata": {},
   "outputs": [
    {
     "data": {
      "text/plain": [
       "[None, None]"
      ]
     },
     "execution_count": 28,
     "metadata": {},
     "output_type": "execute_result"
    }
   ],
   "source": [
    "prevstate"
   ]
  },
  {
   "cell_type": "code",
   "execution_count": 43,
   "metadata": {},
   "outputs": [
    {
     "data": {
      "text/plain": [
       "5"
      ]
     },
     "execution_count": 43,
     "metadata": {},
     "output_type": "execute_result"
    }
   ],
   "source": [
    "pos2index(cumpos)"
   ]
  },
  {
   "cell_type": "code",
   "execution_count": 33,
   "metadata": {},
   "outputs": [
    {
     "data": {
      "text/plain": [
       "1611.0"
      ]
     },
     "execution_count": 33,
     "metadata": {},
     "output_type": "execute_result"
    }
   ],
   "source": [
    "minprice"
   ]
  },
  {
   "cell_type": "code",
   "execution_count": 39,
   "metadata": {},
   "outputs": [
    {
     "data": {
      "text/plain": [
       "9500"
      ]
     },
     "execution_count": 39,
     "metadata": {},
     "output_type": "execute_result"
    }
   ],
   "source": [
    "int(round(firstprice-minprice)*100)"
   ]
  },
  {
   "cell_type": "code",
   "execution_count": null,
   "metadata": {
    "collapsed": true
   },
   "outputs": [],
   "source": []
  }
 ],
 "metadata": {
  "kernelspec": {
   "display_name": "Python 2",
   "language": "python",
   "name": "python2"
  },
  "language_info": {
   "codemirror_mode": {
    "name": "ipython",
    "version": 2
   },
   "file_extension": ".py",
   "mimetype": "text/x-python",
   "name": "python",
   "nbconvert_exporter": "python",
   "pygments_lexer": "ipython2",
   "version": "2.7.13"
  }
 },
 "nbformat": 4,
 "nbformat_minor": 2
}
