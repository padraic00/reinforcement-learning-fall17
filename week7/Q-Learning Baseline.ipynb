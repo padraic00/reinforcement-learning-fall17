{
 "cells": [
  {
   "cell_type": "code",
   "execution_count": 2,
   "metadata": {},
   "outputs": [],
   "source": [
    "import pandas as pd"
   ]
  },
  {
   "cell_type": "code",
   "execution_count": 3,
   "metadata": {},
   "outputs": [],
   "source": [
    "import numpy as np"
   ]
  },
  {
   "cell_type": "code",
   "execution_count": 4,
   "metadata": {},
   "outputs": [],
   "source": [
    "from datetime import timedelta"
   ]
  },
  {
   "cell_type": "code",
   "execution_count": 5,
   "metadata": {},
   "outputs": [],
   "source": [
    "technicals=pd.read_hdf('technicals.h5')"
   ]
  },
  {
   "cell_type": "code",
   "execution_count": 6,
   "metadata": {},
   "outputs": [],
   "source": [
    "#code in cell eases matrix indexing\n",
    "def returnRSI(RSI):\n",
    "    if 0<=RSI<20:\n",
    "        return 0\n",
    "    elif 20<=RSI<40:\n",
    "        return 1\n",
    "    elif 40<=RSI<60:\n",
    "        return 2\n",
    "    elif 60<=RSI<80:\n",
    "        return 3\n",
    "    else:\n",
    "        return 4\n",
    "#accepted range for MACD is -150 to 150\n",
    "def returnMACD(MACD):\n",
    "    if MACD<-90:\n",
    "        return 0\n",
    "    elif -90<MACD<-30:\n",
    "        return 1\n",
    "    elif -30<MACD<30:\n",
    "        return 2\n",
    "    elif 30<MACD<90:\n",
    "        return 3\n",
    "    else:\n",
    "        return 4\n",
    "#return traders cumulative profits in terms of positive and negative\n",
    "def returnProfit(Profit):\n",
    "    if Profit>=0:\n",
    "        return 1\n",
    "    else:\n",
    "        return 0\n",
    "#return current position in terms of long, short or flat\n",
    "def returnPosition(Position):\n",
    "    if Position>0:\n",
    "        return 1\n",
    "    elif Position==0:\n",
    "        return 0\n",
    "    else:\n",
    "        return -1"
   ]
  },
  {
   "cell_type": "code",
   "execution_count": 7,
   "metadata": {},
   "outputs": [],
   "source": [
    "#data partition\n",
    "length=int(0.8*len(technicals))\n",
    "temp=technicals.reset_index()\n",
    "test=temp[temp.index<=length].set_index(['index'])\n",
    "train=temp[temp.index>length].set_index(['index'])"
   ]
  },
  {
   "cell_type": "code",
   "execution_count": 8,
   "metadata": {},
   "outputs": [],
   "source": [
    "nanless=test.dropna()\n",
    "start_RSI=returnRSI(nanless.RSI[0])\n",
    "start_MACD=returnMACD(nanless.MACD[0])"
   ]
  },
  {
   "cell_type": "code",
   "execution_count": 9,
   "metadata": {},
   "outputs": [],
   "source": [
    "start_date=nanless.head().index[0]\n",
    "end_date=nanless.tail(1).index[0]"
   ]
  },
  {
   "cell_type": "code",
   "execution_count": 10,
   "metadata": {},
   "outputs": [
    {
     "name": "stderr",
     "output_type": "stream",
     "text": [
      "C:\\Users\\Padraic\\Anaconda3\\envs\\ml\\lib\\site-packages\\ipykernel_launcher.py:2: SettingWithCopyWarning: \n",
      "A value is trying to be set on a copy of a slice from a DataFrame.\n",
      "Try using .loc[row_indexer,col_indexer] = value instead\n",
      "\n",
      "See the caveats in the documentation: http://pandas.pydata.org/pandas-docs/stable/indexing.html#indexing-view-versus-copy\n",
      "  \n",
      "C:\\Users\\Padraic\\Anaconda3\\envs\\ml\\lib\\site-packages\\ipykernel_launcher.py:3: SettingWithCopyWarning: \n",
      "A value is trying to be set on a copy of a slice from a DataFrame.\n",
      "Try using .loc[row_indexer,col_indexer] = value instead\n",
      "\n",
      "See the caveats in the documentation: http://pandas.pydata.org/pandas-docs/stable/indexing.html#indexing-view-versus-copy\n",
      "  This is separate from the ipykernel package so we can avoid doing imports until\n"
     ]
    }
   ],
   "source": [
    "#our nanless frame will basically become a sparsified verion of the technicals frame\n",
    "nanless['StateRSI']=nanless['RSI'].apply(lambda x: returnRSI(x))\n",
    "nanless['StateMACD']=nanless['MACD'].apply(lambda x: returnMACD(x))"
   ]
  },
  {
   "cell_type": "code",
   "execution_count": null,
   "metadata": {},
   "outputs": [],
   "source": [
    "#define amount of buy or sell\n",
    "test=0\n",
    "temp=0\n",
    "lot_size=1"
   ]
  },
  {
   "cell_type": "code",
   "execution_count": null,
   "metadata": {},
   "outputs": [],
   "source": [
    "#define Q table, each value of Q has a different possible actions\n",
    "#Q[s]=[long_val,hold_val,short_val]\n",
    "#Q=3x2x5x5x3\n",
    "q = np.ndarray(shape=(3,2,5,5,3),dtype=float)\n",
    "q.fill(np.inf)"
   ]
  },
  {
   "cell_type": "code",
   "execution_count": null,
   "metadata": {},
   "outputs": [],
   "source": [
    "class PnL:\n",
    "    def __init__(self):\n",
    "        #tracks current amount of symbol\n",
    "        self.quantity = 0\n",
    "        #cumulative sum of positions (net position)\n",
    "        self.running_quantity=0\n",
    "        #total negative from buying positions\n",
    "        self.cost = 0.0\n",
    "        #current market value of positions\n",
    "        self.market_value = 0.0\n",
    "        #realized pnl\n",
    "        self.r_pnl = 0.0\n",
    "        #average fill price of all positions\n",
    "        self.average_price = 0.0\n",
    "        #realized plus unrealized pnl is total pnl (ie what we want)\n",
    "        self.total_pnl=0.0\n",
    "    #function that processes fill statements\n",
    "    def fill(self, n_pos, exec_price):\n",
    "        #position delta from new buys\n",
    "        pos_change = n_pos - self.quantity\n",
    "        #buy or sell\n",
    "        direction = np.sign(pos_change)\n",
    "        #previous positioning\n",
    "        prev_direction = np.sign(self.quantity)\n",
    "        #quantity we end up with\n",
    "        qty_closing = min(abs(self.quantity), abs(pos_change)) * direction if prev_direction != direction else 0\n",
    "        #quantity we started with\n",
    "        qty_opening = pos_change if prev_direction == direction else pos_change - qty_closing\n",
    "        \n",
    "        #updated cost with new positions\n",
    "        new_cost = self.cost + qty_opening * exec_price\n",
    "        #if the old position wasnt zero, modify cost for new amount *avg price\n",
    "        #same for realized pnl\n",
    "        if self.quantity != 0:\n",
    "            new_cost += qty_closing * self.cost / self.quantity\n",
    "            self.r_pnl += qty_closing * (self.cost / self.quantity - exec_price)\n",
    "\n",
    "        #update current positioning, total positioning, cost\n",
    "        self.quantity = n_pos\n",
    "        self.running_quantity=n_pos+self.running_quantity\n",
    "        self.cost = new_cost\n",
    "\n",
    "    #update for market price and publish total_pnl\n",
    "    def update(self, price):\n",
    "        if self.quantity != 0:\n",
    "            self.average_price = self.cost / self.quantity\n",
    "        else: \n",
    "            self.average_price = 0\n",
    "        self.market_value = self.quantity * price\n",
    "        upl=self.market_value - self.cost\n",
    "        self.total_pnl=upl+self.r_pnl\n",
    "        return self.total_pnl"
   ]
  },
  {
   "cell_type": "code",
   "execution_count": null,
   "metadata": {},
   "outputs": [],
   "source": [
    "kappa=1e-4\n",
    "gamma=0.999\n",
    "alpha=0.001\n",
    "epsilon=0.1 #run without initially, then with\n",
    "converge=1e-3\n",
    "#initial delta\n",
    "delta = np.inf\n",
    "actionlots = [0,lot_size,-lot_size]"
   ]
  },
  {
   "cell_type": "code",
   "execution_count": null,
   "metadata": {},
   "outputs": [],
   "source": [
    "#sparsify nanless so it runs faster\n",
    "nanless=nanless[['close','StateRSI','StateMACD']]\n",
    "#multiple yearly runs until convergence\n",
    "while delta>converge:\n",
    "    btc=PnL()\n",
    "    pastpnl=0\n",
    "    pnl=0\n",
    "    position=[]\n",
    "    observedRSIs=[]\n",
    "    observedMACDs=[]\n",
    "    cumpos=0\n",
    "    states=[]\n",
    "    #Run=pd.DataFrame(index=technicals.index,columns=['state','pnl','position','price'])\n",
    "    #Run=Run.apply(transition,axis=1)\n",
    "    #^experimental code to run with apply instead of iterrrows\n",
    "    #initialize initial state w/0 PnL and 0 positions, initial \n",
    "    states.append([0,1,start_RSI,start_MACD])\n",
    "    state = states[0]\n",
    "    for i, row in nanless.iterrows():\n",
    "        current_price=row['close']\n",
    "        next_row=nanless[nanless.index==i+timedelta(seconds=1)]\n",
    "        action = np.argmax(q[state])\n",
    "        chpos = actionlots[action]\n",
    "        cumpos += chpos\n",
    "        position.append(chpos)\n",
    "        if position!=0:\n",
    "            #if we are taking a new position, we need to assign rewards\n",
    "            btc.fill(position[-1],current_price)\n",
    "            new_price=next_row['close']\n",
    "            pnl=btc.update(new_price)[0]\n",
    "            delta_v=pastpnl-pnl\n",
    "            reward=delta_v-0.5*kappa*delta_v**2\n",
    "        pastpnl=pnl\n",
    "        # define next state and append to state list\n",
    "        prevstate = state\n",
    "        prevstate.append(action)\n",
    "        p=returnProfit(pnl)\n",
    "        discrete_position=returnPosition(btc.running_quantity)\n",
    "        nextrsi = next_row['StateRSI']\n",
    "        nextmacd = next_row['StateMACD']\n",
    "        state = [p,discrete_position,nextrsi,nextmacd]\n",
    "        states.append(state)\n",
    "        if q[tuple(prevstate)] == np.inf: # prevstate is state,action\n",
    "            prevq = 0\n",
    "        else:\n",
    "            prevq = q[tuple(prevstate)]\n",
    "        if np.max(q[tuple(state)]) == np.inf:\n",
    "            thisq = 0\n",
    "        else:\n",
    "            thisq = np.max(q[tuple(state)])\n",
    "        wholeqprev = q\n",
    "        q[tuple(prevstate)] = prevq + alpha*(reward+gamma*thisq-prevq)\n",
    "        delta = np.max(np.subtract(q,wholeqprev))\n",
    "    break"
   ]
  },
  {
   "cell_type": "code",
   "execution_count": 11,
   "metadata": {},
   "outputs": [
    {
     "data": {
      "text/plain": [
       "24592999"
      ]
     },
     "execution_count": 11,
     "metadata": {},
     "output_type": "execute_result"
    }
   ],
   "source": [
    "#prevq + alpha*(reward+gamma*thisq-prevq)\n",
    "len(nanless.drop_duplicates())"
   ]
  },
  {
   "cell_type": "code",
   "execution_count": null,
   "metadata": {},
   "outputs": [],
   "source": [
    "delta"
   ]
  },
  {
   "cell_type": "code",
   "execution_count": null,
   "metadata": {},
   "outputs": [],
   "source": [
    "df = pd.DataFrame([[i] for i in range(10)], columns=['num'])"
   ]
  },
  {
   "cell_type": "code",
   "execution_count": null,
   "metadata": {},
   "outputs": [],
   "source": [
    "def powers(x):\n",
    "    return x, x**2, x**3, x**4, x**5, x**6\n",
    "df['p1'], df['p2'], df['p3'], df['p4'], df['p5'], df['p6'] =zip(*df.apply(lambda x: powers(x)))"
   ]
  },
  {
   "cell_type": "code",
   "execution_count": null,
   "metadata": {},
   "outputs": [],
   "source": [
    "df"
   ]
  },
  {
   "cell_type": "code",
   "execution_count": null,
   "metadata": {},
   "outputs": [],
   "source": []
  }
 ],
 "metadata": {
  "kernelspec": {
   "display_name": "Python 3",
   "language": "python",
   "name": "python3"
  },
  "language_info": {
   "codemirror_mode": {
    "name": "ipython",
    "version": 3
   },
   "file_extension": ".py",
   "mimetype": "text/x-python",
   "name": "python",
   "nbconvert_exporter": "python",
   "pygments_lexer": "ipython3",
   "version": "3.6.3"
  }
 },
 "nbformat": 4,
 "nbformat_minor": 2
}
