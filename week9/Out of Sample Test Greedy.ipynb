{
 "cells": [
  {
   "cell_type": "code",
   "execution_count": 48,
   "metadata": {
    "collapsed": true
   },
   "outputs": [],
   "source": [
    "%matplotlib inline"
   ]
  },
  {
   "cell_type": "code",
   "execution_count": 49,
   "metadata": {
    "collapsed": true
   },
   "outputs": [],
   "source": [
    "import pandas as pd\n",
    "import numpy as np\n",
    "import time\n",
    "import csv\n",
    "import matplotlib.pyplot as plt\n",
    "import pnlclass"
   ]
  },
  {
   "cell_type": "code",
   "execution_count": 50,
   "metadata": {
    "collapsed": true
   },
   "outputs": [],
   "source": [
    "btcusdhist = pd.read_csv('historical/btcusdhist.csv')\n",
    "\n",
    "btcusdhist['time']=btcusdhist['time'].apply(lambda x: x.split('.')[0])\n",
    "btcusdhist['time']=pd.to_datetime(btcusdhist['time'],format='%Y-%m-%dD%H:%M:%S')\n",
    "\n",
    "btcusdhist=btcusdhist[['time','low','high','open','close','vol']]\n",
    "btcusdhist.set_index(btcusdhist.time,inplace=True)\n",
    "btcusdhist=btcusdhist[['low','high','open','close','vol']]"
   ]
  },
  {
   "cell_type": "code",
   "execution_count": 51,
   "metadata": {
    "collapsed": true
   },
   "outputs": [],
   "source": [
    "training = btcusdhist[btcusdhist.index <= pd.to_datetime('2017-09-02 00:00:00')]\n",
    "testing = btcusdhist[(pd.to_datetime('2017-09-04 09:00:00') >= btcusdhist.index)&(btcusdhist.index > pd.to_datetime('2017-09-04 00:00:00'))]"
   ]
  },
  {
   "cell_type": "code",
   "execution_count": 52,
   "metadata": {
    "collapsed": true
   },
   "outputs": [],
   "source": [
    "arr=training[\"close\"].as_matrix()[::-1]\n",
    "testarr = testing['close'].as_matrix()[::-1]"
   ]
  },
  {
   "cell_type": "code",
   "execution_count": 53,
   "metadata": {
    "collapsed": true
   },
   "outputs": [],
   "source": [
    "maxprice = arr.max()\n",
    "minprice = arr.min()\n",
    "priceDsize = int(round(maxprice - minprice))\n",
    "\n",
    "m = 10\n",
    "k = 5\n",
    "posDsize = 2*m+1\n",
    "actionDsize = 2*k+1\n",
    "\n",
    "actions = list(range(-k,k+1))\n",
    "\n",
    "def price2index(x):\n",
    "    return (int(round((x-minprice)*100)))\n",
    "def pos2index(x):\n",
    "    return x+10"
   ]
  },
  {
   "cell_type": "code",
   "execution_count": 54,
   "metadata": {
    "collapsed": true
   },
   "outputs": [],
   "source": [
    "uniqueprices = np.unique(arr)\n",
    "#for later checking for complete exploration of visisted price state space\n",
    "p2i = lambda x:int(round((x-minprice)*100))\n",
    "vp2i = np.vectorize(p2i)\n",
    "upidx = vp2i(uniqueprices)"
   ]
  },
  {
   "cell_type": "code",
   "execution_count": 55,
   "metadata": {
    "collapsed": true
   },
   "outputs": [],
   "source": [
    "kappa=1e-4\n",
    "gamma=0.999\n",
    "alpha=0.001\n",
    "epsilon=0.1 #run without initially, then with\n",
    "converge=1e-6\n",
    "delta = np.inf\n",
    "firstprice=testarr[0]"
   ]
  },
  {
   "cell_type": "code",
   "execution_count": 56,
   "metadata": {
    "collapsed": true
   },
   "outputs": [],
   "source": [
    "q = np.load('q_greedy.npy')"
   ]
  },
  {
   "cell_type": "code",
   "execution_count": 26,
   "metadata": {
    "collapsed": true
   },
   "outputs": [],
   "source": [
    "# Passive Clustering\n",
    "\n",
    "cumpos = 0\n",
    "state = [price2index(firstprice),pos2index(cumpos)]\n",
    "btc=PnL()\n",
    "lop = [] #list of pnl's\n",
    "los = [] # list of skips\n",
    "for i in range(5000):\n",
    "    state = [price2index(testarr[i]),cumpos]\n",
    "    action = np.argmax(np.absolute(q[tuple(state)]))\n",
    "    if q[tuple(state+[action])] == 0:\n",
    "        action = 5\n",
    "        los.append(0)\n",
    "        state.append(action)\n",
    "    else:\n",
    "        los.append(1)\n",
    "        state.append(action)\n",
    "    chpos = actions[action]\n",
    "    cumpos += chpos\n",
    "    if cumpos > 10:\n",
    "        chpos = 0\n",
    "        cumpos = 10\n",
    "    elif cumpos < -10:\n",
    "        chpos = 0\n",
    "        cumpos = -10\n",
    "    btc.fill(chpos,testarr[i])\n",
    "    pnl = btc.update(testarr[i])\n",
    "    lop.append(pnl)"
   ]
  },
  {
   "cell_type": "code",
   "execution_count": 34,
   "metadata": {},
   "outputs": [
    {
     "data": {
      "text/plain": [
       "<matplotlib.text.Text at 0x7f2371839048>"
      ]
     },
     "execution_count": 34,
     "metadata": {},
     "output_type": "execute_result"
    },
    {
     "data": {
      "image/png": "[encoded data removed]",
      "text/plain": [
       "<matplotlib.figure.Figure at 0x7f23779b4f60>"
      ]
     },
     "metadata": {},
     "output_type": "display_data"
    }
   ],
   "source": [
    "plt.plot(lop)\n",
    "plt.title('PC Out of Sample PnL Greedy')"
   ]
  },
  {
   "cell_type": "code",
   "execution_count": 35,
   "metadata": {},
   "outputs": [
    {
     "data": {
      "text/plain": [
       "<matplotlib.text.Text at 0x7f23711619e8>"
      ]
     },
     "execution_count": 35,
     "metadata": {},
     "output_type": "execute_result"
    },
    {
     "data": {
      "image/png": "[encoded data removed]",
      "text/plain": [
       "<matplotlib.figure.Figure at 0x7f23712e5d30>"
      ]
     },
     "metadata": {},
     "output_type": "display_data"
    }
   ],
   "source": [
    "plt.bar(range(5000),los)\n",
    "plt.title('PC Recognized States Greedy')"
   ]
  },
  {
   "cell_type": "code",
   "execution_count": 47,
   "metadata": {},
   "outputs": [
    {
     "name": "stdout",
     "output_type": "stream",
     "text": [
      "Were there any recognized states in PC Greedy Out of Sample?\n",
      "False\n"
     ]
    }
   ],
   "source": [
    "print('Were there any recognized states in PC Greedy Out of Sample?\\n' + str(1 in los))"
   ]
  },
  {
   "cell_type": "code",
   "execution_count": 60,
   "metadata": {
    "collapsed": true
   },
   "outputs": [],
   "source": [
    "# Price Snapping\n",
    "\n",
    "cumpos = 0\n",
    "btc=PnL()\n",
    "lop = [] #list of pnl's\n",
    "los = [] # list of skips\n",
    "for i in range(5000):\n",
    "    nearestidx = (np.abs(uniqueprices-testarr[i])).argmin()\n",
    "    nearest = uniqueprices[nearestidx]\n",
    "    state = [price2index(nearest),cumpos]\n",
    "    action = np.argmax(np.absolute(q[tuple(state)]))\n",
    "    if q[tuple(state+[action])] == 0:\n",
    "        action = 5\n",
    "        los.append(0)\n",
    "        state.append(action)\n",
    "    else:\n",
    "        los.append(1)\n",
    "        state.append(action)\n",
    "    chpos = actions[action]\n",
    "    cumpos += chpos\n",
    "    if cumpos > 10:\n",
    "        chpos = 0\n",
    "        cumpos = 10\n",
    "    elif cumpos < -10:\n",
    "        chpos = 0\n",
    "        cumpos = -10\n",
    "    btc.fill(chpos,testarr[i])\n",
    "    pnl = btc.update(testarr[i])\n",
    "    lop.append(pnl)"
   ]
  },
  {
   "cell_type": "code",
   "execution_count": 61,
   "metadata": {},
   "outputs": [
    {
     "data": {
      "text/plain": [
       "<matplotlib.text.Text at 0x7f2367f126d8>"
      ]
     },
     "execution_count": 61,
     "metadata": {},
     "output_type": "execute_result"
    },
    {
     "data": {
      "image/png": "[encoded data removed]",
      "text/plain": [
       "<matplotlib.figure.Figure at 0x7f236a8e6da0>"
      ]
     },
     "metadata": {},
     "output_type": "display_data"
    }
   ],
   "source": [
    "plt.plot(lop)\n",
    "plt.title('PC Out of Sample PnL Greedy')"
   ]
  },
  {
   "cell_type": "code",
   "execution_count": 62,
   "metadata": {},
   "outputs": [
    {
     "data": {
      "text/plain": [
       "<matplotlib.text.Text at 0x7f2365338ef0>"
      ]
     },
     "execution_count": 62,
     "metadata": {},
     "output_type": "execute_result"
    },
    {
     "data": {
      "image/png": "[encoded data removed]",
      "text/plain": [
       "<matplotlib.figure.Figure at 0x7f236555ada0>"
      ]
     },
     "metadata": {},
     "output_type": "display_data"
    }
   ],
   "source": [
    "plt.bar(range(5000),los)\n",
    "plt.title('PC Recognized States Greedy')"
   ]
  },
  {
   "cell_type": "code",
   "execution_count": 63,
   "metadata": {},
   "outputs": [
    {
     "name": "stdout",
     "output_type": "stream",
     "text": [
      "Were there any recognized states in PC Greedy Out of Sample?\n",
      "False\n"
     ]
    }
   ],
   "source": [
    "print('Were there any recognized states in PC Greedy Out of Sample?\\n' + str(1 in los))"
   ]
  },
  {
   "cell_type": "markdown",
   "metadata": {},
   "source": [
    "#### Note:\n",
    "It appears the greedy action makes it impossible for the cumulative position to be 0 by the start time of the testing set. Therefore, any state where `cumpos = 0` in the q matrix will not have been visited and will cause the agent to not take action.\n",
    "\n",
    "-pm"
   ]
  }
 ],
 "metadata": {
  "kernelspec": {
   "display_name": "Python 3",
   "language": "python",
   "name": "python3"
  },
  "language_info": {
   "codemirror_mode": {
    "name": "ipython",
    "version": 3
   },
   "file_extension": ".py",
   "mimetype": "text/x-python",
   "name": "python",
   "nbconvert_exporter": "python",
   "pygments_lexer": "ipython3",
   "version": "3.6.1"
  }
 },
 "nbformat": 4,
 "nbformat_minor": 2
}
