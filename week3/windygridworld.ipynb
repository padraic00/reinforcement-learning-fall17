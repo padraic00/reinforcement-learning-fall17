{
 "cells": [
  {
   "cell_type": "code",
   "execution_count": 1,
   "metadata": {
    "collapsed": false
   },
   "outputs": [
    {
     "data": {
      "image/png": "[encoded data removed]",
      "text/plain": [
       "<matplotlib.figure.Figure at 0x1f82d747f98>"
      ]
     },
     "metadata": {},
     "output_type": "display_data"
    },
    {
     "name": "stdout",
     "output_type": "stream",
     "text": [
      "['U', 'R', 'R', 'R', 'R', 'R', 'R', 'R', 'R', 'D']\n",
      "['D', 'R', 'R', 'R', 'R', 'R', 'R', 'D', 'R', 'D']\n",
      "['R', 'R', 'U', 'R', 'R', 'R', 'R', 'D', 'R', 'D']\n",
      "['R', 'R', 'R', 'R', 'R', 'R', 'R', 'G', 'D', 'D']\n",
      "['D', 'R', 'L', 'R', 'R', 'R', 'U', 'D', 'L', 'L']\n",
      "['D', 'R', 'R', 'D', 'R', 'U', 'U', 'D', 'L', 'L']\n",
      "['L', 'R', 'R', 'R', 'U', 'U', 'U', 'U', 'U', 'L']\n",
      "['0', '0', '0', '1', '1', '1', '2', '2', '1', '0']\n"
     ]
    }
   ],
   "source": [
    "from __future__ import print_function\n",
    "import numpy as np\n",
    "import matplotlib.pyplot as plt\n",
    "\n",
    "# world height\n",
    "WORLD_HEIGHT = 7\n",
    "\n",
    "# world width\n",
    "WORLD_WIDTH = 10\n",
    "\n",
    "# wind strength for each column\n",
    "WIND = [0, 0, 0, 1, 1, 1, 2, 2, 1, 0]\n",
    "\n",
    "# possible actions\n",
    "ACTION_UP = 0\n",
    "ACTION_DOWN = 1\n",
    "ACTION_LEFT = 2\n",
    "ACTION_RIGHT = 3\n",
    "\n",
    "# episilon exploration for e-greedy\n",
    "EPSILON = 0.1\n",
    "\n",
    "# step size\n",
    "STEP = 0.5\n",
    "\n",
    "# reward for each step\n",
    "REWARD = -1.0\n",
    "\n",
    "# Q values are initialized to zero\n",
    "stateActionValues = np.zeros((WORLD_HEIGHT, WORLD_WIDTH, 4))\n",
    "# start and termination as laid out in the textbook\n",
    "startState = [3, 0]\n",
    "goalState = [3, 7]\n",
    "actions = [ACTION_UP, ACTION_DOWN, ACTION_LEFT, ACTION_RIGHT]\n",
    "\n",
    "# set up destinations for each action in each state\n",
    "actionDestination = []\n",
    "for i in range(0, WORLD_HEIGHT):\n",
    "    actionDestination.append([])\n",
    "    for j in range(0, WORLD_WIDTH):\n",
    "        destination = dict()\n",
    "        destination[ACTION_UP] = [max(i - 1 - WIND[j], 0), j]\n",
    "        destination[ACTION_DOWN] = [max(min(i + 1 - WIND[j], WORLD_HEIGHT - 1), 0), j]\n",
    "        destination[ACTION_LEFT] = [max(i - WIND[j], 0), max(j - 1, 0)]\n",
    "        destination[ACTION_RIGHT] = [max(i - WIND[j], 0), min(j + 1, WORLD_WIDTH - 1)]\n",
    "        actionDestination[-1].append(destination)\n",
    "\n",
    "# play for an episode\n",
    "def oneEpisode():\n",
    "    # track the total time steps in this episode\n",
    "    time = 0\n",
    "\n",
    "    # initialize state\n",
    "    currentState = startState\n",
    "\n",
    "    # choose an action based on epsilon-greedy algorithm\n",
    "    if np.random.binomial(1, EPSILON) == 1:\n",
    "        # getting random value in the 0.1 condition\n",
    "        currentAction = np.random.choice(actions)\n",
    "    else:\n",
    "        # executing greedy option in all other cases\n",
    "        currentAction = np.argmax(stateActionValues[currentState[0], currentState[1], :])\n",
    "\n",
    "    # keep going until get to the goal state\n",
    "    while currentState != goalState:\n",
    "        newState = actionDestination[currentState[0]][currentState[1]][currentAction]\n",
    "        if np.random.binomial(1, EPSILON) == 1:\n",
    "            newAction = np.random.choice(actions)\n",
    "        else:\n",
    "            newAction = np.argmax(stateActionValues[newState[0], newState[1], :])\n",
    "        # Sarsa update as per Equation 6.7\n",
    "        stateActionValues[currentState[0], currentState[1], currentAction] += \\\n",
    "            STEP * (REWARD + stateActionValues[newState[0], newState[1], newAction] -\n",
    "            stateActionValues[currentState[0], currentState[1], currentAction])\n",
    "        currentState = newState\n",
    "        currentAction = newAction\n",
    "        time += 1\n",
    "    return time\n",
    "\n",
    "# play for 500 episodes to make sure to get a more converged policy\n",
    "# episodeLimit = 200\n",
    "\n",
    "# figure 6.4\n",
    "episodeLimit = 500\n",
    "ep = 0\n",
    "episodes = []\n",
    "while ep < episodeLimit:\n",
    "    time = oneEpisode()\n",
    "    episodes.extend([ep] * time)\n",
    "    ep += 1\n",
    "\n",
    "plt.figure()\n",
    "plt.plot(episodes)\n",
    "plt.xlabel('Time steps')\n",
    "plt.ylabel('Episodes')\n",
    "plt.show()\n",
    "\n",
    "# display the optimal policy\n",
    "optimalPolicy = []\n",
    "for i in range(0, WORLD_HEIGHT):\n",
    "    optimalPolicy.append([])\n",
    "    for j in range(0, WORLD_WIDTH):\n",
    "        if [i, j] == goalState:\n",
    "            optimalPolicy[-1].append('G')\n",
    "            continue\n",
    "        bestAction = np.argmax(stateActionValues[i, j, :])\n",
    "        if bestAction == ACTION_UP:\n",
    "            optimalPolicy[-1].append('U')\n",
    "        elif bestAction == ACTION_DOWN:\n",
    "            optimalPolicy[-1].append('D')\n",
    "        elif bestAction == ACTION_LEFT:\n",
    "            optimalPolicy[-1].append('L')\n",
    "        elif bestAction == ACTION_RIGHT:\n",
    "            optimalPolicy[-1].append('R')\n",
    "for row in optimalPolicy:\n",
    "    print(row)\n",
    "print([str(w) for w in WIND])"
   ]
  },
  {
   "cell_type": "code",
   "execution_count": null,
   "metadata": {
    "collapsed": true
   },
   "outputs": [],
   "source": [
    "\n"
   ]
  }
 ],
 "metadata": {
  "anaconda-cloud": {},
  "kernelspec": {
   "display_name": "Python [conda root]",
   "language": "python",
   "name": "conda-root-py"
  },
  "language_info": {
   "codemirror_mode": {
    "name": "ipython",
    "version": 3
   },
   "file_extension": ".py",
   "mimetype": "text/x-python",
   "name": "python",
   "nbconvert_exporter": "python",
   "pygments_lexer": "ipython3",
   "version": "3.5.2"
  }
 },
 "nbformat": 4,
 "nbformat_minor": 1
}
