{
 "cells": [
  {
   "cell_type": "code",
   "execution_count": 4,
   "metadata": {
    "collapsed": true
   },
   "outputs": [],
   "source": [
    "from IPython.display import display, Math, Latex"
   ]
  },
  {
   "cell_type": "markdown",
   "metadata": {},
   "source": [
    "$$ \n",
    "\\begin{align*}\n",
    "Initialize\\, &C_0\\, \\leftarrow\\, 0 \\\\\n",
    "& V\\, \\leftarrow\\, 0\\\\\n",
    "Initialize,\\,&  for\\,  all\\,  s\\,  \\in\\,  S,\\, a\\, \\in\\, A(s) \\\\\n",
    "& Q(s,a) \\leftarrow\\, arbitrary \\\\\n",
    "& \\pi\\, \\leftarrow\\, an\\, arbitrary\\, deterministic\\, policy\\\\\n",
    "Repeat\\, forever&: \\\\\n",
    "& (a)\\, Select\\, a\\, policy\\, \\mu\\, and\\, use\\, it\\, to\\, generate\\, an\\, episode \\\\\n",
    "& (b)\\, \\tau\\, \\leftarrow\\, the\\, latest\\, time\\, at\\, which\\, A_ \\tau \\neq\\,\\pi (S_\\tau) \\\\\n",
    "& (c)\\, For\\, each\\, pair\\, s,\\, a\\, appearing\\, in\\, the\\, episode\\, at\\, time\\, \\tau\\, or\\, later:\\, \\\\\n",
    "& \\qquad t\\, \\leftarrow\\, the\\, time\\, of\\, first\\, occurence\\, of\\, s,a\\, such\\, that\\, t\\geq\\tau \\\\\n",
    "& \\qquad W\\, \\leftarrow\\, \\prod_{k=t+1}^{T-1} \\frac{1}{\\mu(A_k|S_k)} \\\\\n",
    "& \\qquad C(s,a)\\, \\leftarrow\\, C(s-1,a)\\, +\\, W(s,a) \\\\\n",
    "& \\qquad V(s,a)\\, \\leftarrow\\, V(s,a)\\, +\\, \\frac{W}{C(s,a)} \\big[ G_t-V \\big] \\\\\n",
    "& (d)\\, For\\, each\\, s\\, \\in\\, S: \\\\\n",
    "& \\qquad \\pi(s)\\, \\leftarrow\\, arg max_a\\, V(s,a) \\\\\n",
    "\\end{align*}\n",
    "$$\n"
   ]
  },
  {
   "cell_type": "code",
   "execution_count": null,
   "metadata": {
    "collapsed": true
   },
   "outputs": [],
   "source": []
  }
 ],
 "metadata": {
  "anaconda-cloud": {},
  "kernelspec": {
   "display_name": "Python [default]",
   "language": "python",
   "name": "python3"
  },
  "language_info": {
   "codemirror_mode": {
    "name": "ipython",
    "version": 3
   },
   "file_extension": ".py",
   "mimetype": "text/x-python",
   "name": "python",
   "nbconvert_exporter": "python",
   "pygments_lexer": "ipython3",
   "version": "3.5.2"
  }
 },
 "nbformat": 4,
 "nbformat_minor": 1
}
